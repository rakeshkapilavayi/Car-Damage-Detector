{
 "cells": [
  {
   "cell_type": "markdown",
   "id": "885ec39a",
   "metadata": {},
   "source": [
    "<h2 style=\"text-align: center; font-family: Arial, sans-serif; font-weight: bold; color: #2c3e50; text-transform: uppercase; margin: 20px 0;\">Smart Vehicle Damage Detection</h2>"
   ]
  },
  {
   "cell_type": "markdown",
   "id": "1a612d55-c262-4b10-bc62-35425504ffa0",
   "metadata": {},
   "source": [
    "#### Importing all Libraries"
   ]
  },
  {
   "cell_type": "code",
   "execution_count": 1,
   "id": "a8e97ab8",
   "metadata": {},
   "outputs": [],
   "source": [
    "import os\n",
    "from torchvision import datasets, transforms\n",
    "from torch.utils.data import DataLoader\n",
    "import torch\n",
    "import torch.nn as nn\n",
    "import torch.optim as optim\n",
    "import torch.nn.functional as F\n",
    "import time\n",
    "import torchvision.models as models\n",
    "from matplotlib import pyplot as plt"
   ]
  },
  {
   "cell_type": "markdown",
   "id": "4d4a91fc",
   "metadata": {},
   "source": [
    "<h3 style=\"font-family: Arial, sans-serif; color: #34495e; margin: 15px 0; text-transform: uppercase; letter-spacing: 1px;\">Data Load and Transformation</h3>"
   ]
  },
  {
   "cell_type": "code",
   "execution_count": 2,
   "id": "f2f3e21e",
   "metadata": {},
   "outputs": [],
   "source": [
    "image_transforms = transforms.Compose([\n",
    "    transforms.RandomHorizontalFlip(),\n",
    "    transforms.RandomRotation(10),\n",
    "    transforms.ColorJitter(brightness=0.2, contrast=0.2),\n",
    "    transforms.Resize((224, 224)),\n",
    "    transforms.ToTensor(),\n",
    "    transforms.Normalize(mean=[0.485, 0.456, 0.406], std=[0.229, 0.224, 0.225])  #These values are calculated per channel (Red, Green, Blue) and are derived from the ImageNet training dataset\n",
    "])"
   ]
  },
  {
   "cell_type": "code",
   "execution_count": 3,
   "id": "c4495296",
   "metadata": {},
   "outputs": [
    {
     "data": {
      "text/plain": [
       "2300"
      ]
     },
     "execution_count": 3,
     "metadata": {},
     "output_type": "execute_result"
    }
   ],
   "source": [
    "dataset_path = \"./dataset\"\n",
    "\n",
    "dataset = datasets.ImageFolder(root=dataset_path, transform=image_transforms)\n",
    "len(dataset)"
   ]
  },
  {
   "cell_type": "code",
   "execution_count": 4,
   "id": "8a5c0c93",
   "metadata": {},
   "outputs": [
    {
     "data": {
      "text/plain": [
       "['F_Breakage', 'F_Crushed', 'F_Normal', 'R_Breakage', 'R_Crushed', 'R_Normal']"
      ]
     },
     "execution_count": 4,
     "metadata": {},
     "output_type": "execute_result"
    }
   ],
   "source": [
    "class_names = dataset.classes\n",
    "class_names # 6 classes for the output"
   ]
  },
  {
   "cell_type": "code",
   "execution_count": 5,
   "id": "4373a3c7",
   "metadata": {},
   "outputs": [
    {
     "data": {
      "text/plain": [
       "6"
      ]
     },
     "execution_count": 5,
     "metadata": {},
     "output_type": "execute_result"
    }
   ],
   "source": [
    "num_classes = len(dataset.classes)\n",
    "num_classes"
   ]
  },
  {
   "cell_type": "markdown",
   "id": "225d9e5a-8b33-47fa-b864-fae860b2f856",
   "metadata": {},
   "source": [
    "#### Splitting the Data: 75% Training, 25% Testing"
   ]
  },
  {
   "cell_type": "code",
   "execution_count": 6,
   "id": "357cf384",
   "metadata": {},
   "outputs": [
    {
     "data": {
      "text/plain": [
       "(1725, 575)"
      ]
     },
     "execution_count": 6,
     "metadata": {},
     "output_type": "execute_result"
    }
   ],
   "source": [
    "train_size = int(0.75*len(dataset))\n",
    "val_size = len(dataset) - train_size\n",
    "\n",
    "train_size, val_size"
   ]
  },
  {
   "cell_type": "code",
   "execution_count": 7,
   "id": "ce73b1d9",
   "metadata": {},
   "outputs": [],
   "source": [
    "from torch.utils.data import random_split\n",
    "\n",
    "train_dataset, val_dataset = random_split(dataset, [train_size, val_size])"
   ]
  },
  {
   "cell_type": "code",
   "execution_count": 8,
   "id": "8ea8ef79",
   "metadata": {},
   "outputs": [],
   "source": [
    "train_loader = DataLoader(train_dataset, batch_size=32, shuffle=True)\n",
    "val_loader = DataLoader(val_dataset, batch_size=32, shuffle=True)"
   ]
  },
  {
   "cell_type": "code",
   "execution_count": 9,
   "id": "c2ee7190",
   "metadata": {},
   "outputs": [
    {
     "name": "stdout",
     "output_type": "stream",
     "text": [
      "torch.Size([32, 3, 224, 224])\n",
      "torch.Size([32])\n"
     ]
    }
   ],
   "source": [
    "for images, labels in train_loader:\n",
    "    print(images.shape)\n",
    "    print(labels.shape)\n",
    "    break"
   ]
  },
  {
   "cell_type": "code",
   "execution_count": 21,
   "id": "37412e6b",
   "metadata": {},
   "outputs": [
    {
     "data": {
      "text/plain": [
       "tensor(0)"
      ]
     },
     "execution_count": 21,
     "metadata": {},
     "output_type": "execute_result"
    }
   ],
   "source": [
    "labels[8]  # F_Breakage"
   ]
  },
  {
   "cell_type": "code",
   "execution_count": 22,
   "id": "ed545b4b",
   "metadata": {},
   "outputs": [
    {
     "data": {
      "text/plain": [
       "torch.Size([3, 224, 224])"
      ]
     },
     "execution_count": 22,
     "metadata": {},
     "output_type": "execute_result"
    }
   ],
   "source": [
    "images[8].shape"
   ]
  },
  {
   "cell_type": "code",
   "execution_count": 23,
   "id": "fc5835f1",
   "metadata": {},
   "outputs": [
    {
     "data": {
      "text/plain": [
       "torch.Size([224, 224, 3])"
      ]
     },
     "execution_count": 23,
     "metadata": {},
     "output_type": "execute_result"
    }
   ],
   "source": [
    "images[8].permute(1,2,0).shape"
   ]
  },
  {
   "cell_type": "code",
   "execution_count": 24,
   "id": "14e0e36a",
   "metadata": {},
   "outputs": [
    {
     "name": "stderr",
     "output_type": "stream",
     "text": [
      "Clipping input data to the valid range for imshow with RGB data ([0..1] for floats or [0..255] for integers). Got range [-1.980906..2.64].\n"
     ]
    },
    {
     "data": {
      "image/png": "[encoded data removed]",
      "text/plain": [
       "<Figure size 640x480 with 1 Axes>"
      ]
     },
     "metadata": {},
     "output_type": "display_data"
    }
   ],
   "source": [
    "plt.imshow(images[8].permute(1,2,0))\n",
    "plt.show()"
   ]
  },
  {
   "cell_type": "markdown",
   "id": "b6e8c1d4",
   "metadata": {},
   "source": [
    "<h3 style=\"font-family: Arial, sans-serif; color: #34495e; margin: 15px 0; text-transform: uppercase; letter-spacing: 1px;\">model 1: cnn</h3>"
   ]
  },
  {
   "cell_type": "code",
   "execution_count": 25,
   "id": "af38f156",
   "metadata": {},
   "outputs": [],
   "source": [
    "class CarClassifierCNN(nn.Module):\n",
    "    def __init__(self, num_classes):\n",
    "        super().__init__()\n",
    "        self.network = nn.Sequential(\n",
    "            nn.Conv2d(in_channels=3, out_channels=16, kernel_size=3, stride=1, padding=1), # (16, 224, 224) \n",
    "            nn.ReLU(),\n",
    "            nn.MaxPool2d(kernel_size=2, stride=2, padding=0), # (16, 112, 112),\n",
    "            nn.Conv2d(in_channels=16, out_channels=32, kernel_size=3, stride=1, padding=1), \n",
    "            nn.ReLU(),\n",
    "            nn.MaxPool2d(kernel_size=2, stride=2, padding=0), # (32, 56, 56)           \n",
    "            nn.Conv2d(in_channels=32, out_channels=64, kernel_size=3, stride=1, padding=1), \n",
    "            nn.ReLU(),\n",
    "            nn.MaxPool2d(kernel_size=2, stride=2, padding=0), # (64, 28, 28),\n",
    "            nn.Flatten(),\n",
    "            nn.Linear(64*28*28, 512),\n",
    "            nn.ReLU(),\n",
    "            nn.Linear(512, num_classes)\n",
    "        )\n",
    "        \n",
    "    def forward(self, x):\n",
    "        x = self.network(x)\n",
    "        return x"
   ]
  },
  {
   "cell_type": "code",
   "execution_count": 27,
   "id": "6d8bd77b",
   "metadata": {},
   "outputs": [
    {
     "data": {
      "text/plain": [
       "32"
      ]
     },
     "execution_count": 27,
     "metadata": {},
     "output_type": "execute_result"
    }
   ],
   "source": [
    "images.size(0)"
   ]
  },
  {
   "cell_type": "code",
   "execution_count": 28,
   "id": "c634d550",
   "metadata": {},
   "outputs": [
    {
     "data": {
      "text/plain": [
       "1725"
      ]
     },
     "execution_count": 28,
     "metadata": {},
     "output_type": "execute_result"
    }
   ],
   "source": [
    "len(train_loader.dataset)"
   ]
  },
  {
   "cell_type": "code",
   "execution_count": 13,
   "id": "80c1c552",
   "metadata": {},
   "outputs": [],
   "source": [
    "def train_model(model, criterion, optimizer, epochs=5):\n",
    "    start = time.time()\n",
    "    \n",
    "    for epoch in range(epochs):\n",
    "        model.train()\n",
    "        running_loss = 0.0\n",
    "        for batch_num, (images, labels) in enumerate(train_loader):\n",
    "            \n",
    "            # Zero the parameter gradients\n",
    "            optimizer.zero_grad()\n",
    "            \n",
    "            # Forward pass\n",
    "            outputs = model(images)\n",
    "            loss = criterion(outputs, labels)\n",
    "            \n",
    "            # Backward pass and optimization\n",
    "            loss.backward()\n",
    "            optimizer.step()\n",
    "            \n",
    "            if (batch_num+1) % 10 == 0:\n",
    "                print(f\"Batch: {batch_num+1}, Epoch: {epoch+1}, Loss: {loss.item():0.2f}\")\n",
    "            \n",
    "            running_loss += loss.item() * images.size(0)\n",
    "            \n",
    "        epoch_loss = running_loss / len(train_loader.dataset)\n",
    "        print(f\"Epoch [{epoch+1}/{epochs}], Avg Loss: {epoch_loss:.4f}\")\n",
    "\n",
    "        # Validation\n",
    "        model.eval()\n",
    "        correct = 0\n",
    "        total = 0\n",
    "        all_labels = []\n",
    "        all_predictions = []\n",
    "        \n",
    "        with torch.no_grad():\n",
    "            for images, labels in val_loader:\n",
    "                outputs = model(images)\n",
    "                _, predicted = torch.max(outputs.data,1)\n",
    "                total += labels.size(0)\n",
    "                correct += (predicted == labels).sum().item()\n",
    "                all_labels.extend(labels.cpu().numpy())\n",
    "                all_predictions.extend(predicted.cpu().numpy())\n",
    "                \n",
    "            print(f\"*** Validation Accuracy: {100 * correct / total:.2f}% ***\")\n",
    "            \n",
    "    end = time.time()\n",
    "    print(f\"Execution time: {end - start} seconds\")     \n",
    "    \n",
    "    return all_labels, all_predictions"
   ]
  },
  {
   "cell_type": "code",
   "execution_count": 32,
   "id": "65149270",
   "metadata": {},
   "outputs": [
    {
     "name": "stdout",
     "output_type": "stream",
     "text": [
      "Batch: 10, Epoch: 1, Loss: 1.75\n",
      "Batch: 20, Epoch: 1, Loss: 1.65\n",
      "Batch: 30, Epoch: 1, Loss: 1.74\n",
      "Batch: 40, Epoch: 1, Loss: 1.57\n",
      "Batch: 50, Epoch: 1, Loss: 1.24\n",
      "Epoch [1/10], Avg Loss: 1.7335\n",
      "*** Validation Accuracy: 48.17% ***\n",
      "Batch: 10, Epoch: 2, Loss: 1.24\n",
      "Batch: 20, Epoch: 2, Loss: 0.94\n",
      "Batch: 30, Epoch: 2, Loss: 1.08\n",
      "Batch: 40, Epoch: 2, Loss: 1.40\n",
      "Batch: 50, Epoch: 2, Loss: 1.27\n",
      "Epoch [2/10], Avg Loss: 1.2279\n",
      "*** Validation Accuracy: 50.43% ***\n",
      "Batch: 10, Epoch: 3, Loss: 1.20\n",
      "Batch: 20, Epoch: 3, Loss: 1.21\n",
      "Batch: 30, Epoch: 3, Loss: 0.90\n",
      "Batch: 40, Epoch: 3, Loss: 1.10\n",
      "Batch: 50, Epoch: 3, Loss: 1.03\n",
      "Epoch [3/10], Avg Loss: 1.0876\n",
      "*** Validation Accuracy: 56.00% ***\n",
      "Batch: 10, Epoch: 4, Loss: 0.85\n",
      "Batch: 20, Epoch: 4, Loss: 0.83\n",
      "Batch: 30, Epoch: 4, Loss: 1.05\n",
      "Batch: 40, Epoch: 4, Loss: 1.18\n",
      "Batch: 50, Epoch: 4, Loss: 1.23\n",
      "Epoch [4/10], Avg Loss: 0.9976\n",
      "*** Validation Accuracy: 57.74% ***\n",
      "Batch: 10, Epoch: 5, Loss: 0.79\n",
      "Batch: 20, Epoch: 5, Loss: 0.93\n",
      "Batch: 30, Epoch: 5, Loss: 0.89\n",
      "Batch: 40, Epoch: 5, Loss: 1.07\n",
      "Batch: 50, Epoch: 5, Loss: 0.98\n",
      "Epoch [5/10], Avg Loss: 0.9307\n",
      "*** Validation Accuracy: 59.48% ***\n",
      "Batch: 10, Epoch: 6, Loss: 0.76\n",
      "Batch: 20, Epoch: 6, Loss: 0.89\n",
      "Batch: 30, Epoch: 6, Loss: 0.99\n",
      "Batch: 40, Epoch: 6, Loss: 0.79\n",
      "Batch: 50, Epoch: 6, Loss: 0.79\n",
      "Epoch [6/10], Avg Loss: 0.8537\n",
      "*** Validation Accuracy: 58.43% ***\n",
      "Batch: 10, Epoch: 7, Loss: 0.61\n",
      "Batch: 20, Epoch: 7, Loss: 0.84\n",
      "Batch: 30, Epoch: 7, Loss: 0.65\n",
      "Batch: 40, Epoch: 7, Loss: 0.74\n",
      "Batch: 50, Epoch: 7, Loss: 0.84\n",
      "Epoch [7/10], Avg Loss: 0.8081\n",
      "*** Validation Accuracy: 58.26% ***\n",
      "Batch: 10, Epoch: 8, Loss: 0.82\n",
      "Batch: 20, Epoch: 8, Loss: 0.53\n",
      "Batch: 30, Epoch: 8, Loss: 0.65\n",
      "Batch: 40, Epoch: 8, Loss: 0.65\n",
      "Batch: 50, Epoch: 8, Loss: 0.93\n",
      "Epoch [8/10], Avg Loss: 0.7679\n",
      "*** Validation Accuracy: 58.61% ***\n",
      "Batch: 10, Epoch: 9, Loss: 0.64\n",
      "Batch: 20, Epoch: 9, Loss: 0.68\n",
      "Batch: 30, Epoch: 9, Loss: 0.93\n",
      "Batch: 40, Epoch: 9, Loss: 0.73\n",
      "Batch: 50, Epoch: 9, Loss: 0.69\n",
      "Epoch [9/10], Avg Loss: 0.6914\n",
      "*** Validation Accuracy: 60.00% ***\n",
      "Batch: 10, Epoch: 10, Loss: 0.69\n",
      "Batch: 20, Epoch: 10, Loss: 0.73\n",
      "Batch: 30, Epoch: 10, Loss: 0.50\n",
      "Batch: 40, Epoch: 10, Loss: 0.87\n",
      "Batch: 50, Epoch: 10, Loss: 0.70\n",
      "Epoch [10/10], Avg Loss: 0.6363\n",
      "*** Validation Accuracy: 61.22% ***\n",
      "Execution time: 805.5921547412872 seconds\n"
     ]
    }
   ],
   "source": [
    "# Instantiate the model, loss function, and optimizer\n",
    "model = CarClassifierCNN(num_classes=num_classes)\n",
    "criterion = nn.CrossEntropyLoss()\n",
    "optimizer = optim.Adam(model.parameters(), lr=0.001)\n",
    "\n",
    "all_labels, all_predictions = train_model(model, criterion, optimizer, epochs=10)"
   ]
  },
  {
   "cell_type": "markdown",
   "id": "325c68e1-a0c3-4a2e-b8a3-ac6e9fd8eea5",
   "metadata": {},
   "source": [
    "#### Insights: \n",
    "The plane model achieves a validation accuracy of 61.22%"
   ]
  },
  {
   "cell_type": "markdown",
   "id": "d398d166",
   "metadata": {},
   "source": [
    "<h3 style=\"font-family: Arial, sans-serif; color: #34495e; margin: 15px 0; text-transform: uppercase; letter-spacing: 1px;\">model 2: cnn with regularization</h3>"
   ]
  },
  {
   "cell_type": "code",
   "execution_count": 33,
   "id": "d6bb6b55",
   "metadata": {},
   "outputs": [],
   "source": [
    "class CarClassifierCNNWithRegularization(nn.Module):\n",
    "    def __init__(self, num_classes):\n",
    "        super().__init__()\n",
    "        self.network = nn.Sequential(\n",
    "            nn.Conv2d(in_channels=3, out_channels=16, kernel_size=3, stride=1, padding=1), # (16, 224, 224) \n",
    "            nn.BatchNorm2d(16),   # Added Batch Normalization\n",
    "            nn.ReLU(),\n",
    "            nn.MaxPool2d(kernel_size=2, stride=2, padding=0), # (16, 112, 112),\n",
    "            nn.Conv2d(in_channels=16, out_channels=32, kernel_size=3, stride=1, padding=1), \n",
    "            nn.BatchNorm2d(32),   # Added Batch Normalization\n",
    "            nn.ReLU(),\n",
    "            nn.MaxPool2d(kernel_size=2, stride=2, padding=0), # (32, 56, 56)           \n",
    "            nn.Conv2d(in_channels=32, out_channels=64, kernel_size=3, stride=1, padding=1), \n",
    "            nn.BatchNorm2d(64),   # Added Batch Normalization\n",
    "            nn.ReLU(),\n",
    "            nn.MaxPool2d(kernel_size=2, stride=2, padding=0), # (64, 28, 28),\n",
    "            nn.Flatten(),\n",
    "            nn.Linear(64*28*28, 512),\n",
    "            nn.ReLU(),\n",
    "            nn.Dropout(0.5),   # Added Dropout Regularization(50%)\n",
    "            nn.Linear(512, num_classes)\n",
    "        )\n",
    "        \n",
    "    def forward(self, x):\n",
    "        x = self.network(x)\n",
    "        return x"
   ]
  },
  {
   "cell_type": "code",
   "execution_count": 34,
   "id": "a158a32f",
   "metadata": {},
   "outputs": [
    {
     "name": "stdout",
     "output_type": "stream",
     "text": [
      "Batch: 10, Epoch: 1, Loss: 13.08\n",
      "Batch: 20, Epoch: 1, Loss: 5.55\n",
      "Batch: 30, Epoch: 1, Loss: 1.62\n",
      "Batch: 40, Epoch: 1, Loss: 1.48\n",
      "Batch: 50, Epoch: 1, Loss: 1.48\n",
      "Epoch [1/10], Avg Loss: 7.7416\n",
      "*** Validation Accuracy: 40.35% ***\n",
      "Batch: 10, Epoch: 2, Loss: 1.28\n",
      "Batch: 20, Epoch: 2, Loss: 1.87\n",
      "Batch: 30, Epoch: 2, Loss: 1.28\n",
      "Batch: 40, Epoch: 2, Loss: 1.20\n",
      "Batch: 50, Epoch: 2, Loss: 1.79\n",
      "Epoch [2/10], Avg Loss: 1.4452\n",
      "*** Validation Accuracy: 48.00% ***\n",
      "Batch: 10, Epoch: 3, Loss: 1.12\n",
      "Batch: 20, Epoch: 3, Loss: 1.51\n",
      "Batch: 30, Epoch: 3, Loss: 1.23\n",
      "Batch: 40, Epoch: 3, Loss: 1.22\n",
      "Batch: 50, Epoch: 3, Loss: 1.38\n",
      "Epoch [3/10], Avg Loss: 1.3313\n",
      "*** Validation Accuracy: 52.17% ***\n",
      "Batch: 10, Epoch: 4, Loss: 1.50\n",
      "Batch: 20, Epoch: 4, Loss: 1.32\n",
      "Batch: 30, Epoch: 4, Loss: 1.37\n",
      "Batch: 40, Epoch: 4, Loss: 0.93\n",
      "Batch: 50, Epoch: 4, Loss: 1.05\n",
      "Epoch [4/10], Avg Loss: 1.2516\n",
      "*** Validation Accuracy: 50.26% ***\n",
      "Batch: 10, Epoch: 5, Loss: 1.42\n",
      "Batch: 20, Epoch: 5, Loss: 1.34\n",
      "Batch: 30, Epoch: 5, Loss: 1.24\n",
      "Batch: 40, Epoch: 5, Loss: 1.24\n",
      "Batch: 50, Epoch: 5, Loss: 1.13\n",
      "Epoch [5/10], Avg Loss: 1.2249\n",
      "*** Validation Accuracy: 48.70% ***\n",
      "Batch: 10, Epoch: 6, Loss: 1.04\n",
      "Batch: 20, Epoch: 6, Loss: 1.07\n",
      "Batch: 30, Epoch: 6, Loss: 1.25\n",
      "Batch: 40, Epoch: 6, Loss: 1.20\n",
      "Batch: 50, Epoch: 6, Loss: 1.07\n",
      "Epoch [6/10], Avg Loss: 1.1872\n",
      "*** Validation Accuracy: 52.17% ***\n",
      "Batch: 10, Epoch: 7, Loss: 1.09\n",
      "Batch: 20, Epoch: 7, Loss: 1.31\n",
      "Batch: 30, Epoch: 7, Loss: 1.13\n",
      "Batch: 40, Epoch: 7, Loss: 1.14\n",
      "Batch: 50, Epoch: 7, Loss: 1.49\n",
      "Epoch [7/10], Avg Loss: 1.1345\n",
      "*** Validation Accuracy: 50.09% ***\n",
      "Batch: 10, Epoch: 8, Loss: 1.15\n",
      "Batch: 20, Epoch: 8, Loss: 0.91\n",
      "Batch: 30, Epoch: 8, Loss: 0.91\n",
      "Batch: 40, Epoch: 8, Loss: 1.22\n",
      "Batch: 50, Epoch: 8, Loss: 1.26\n",
      "Epoch [8/10], Avg Loss: 1.1361\n",
      "*** Validation Accuracy: 52.70% ***\n",
      "Batch: 10, Epoch: 9, Loss: 0.89\n",
      "Batch: 20, Epoch: 9, Loss: 1.19\n",
      "Batch: 30, Epoch: 9, Loss: 1.35\n",
      "Batch: 40, Epoch: 9, Loss: 1.24\n",
      "Batch: 50, Epoch: 9, Loss: 1.44\n",
      "Epoch [9/10], Avg Loss: 1.1075\n",
      "*** Validation Accuracy: 51.13% ***\n",
      "Batch: 10, Epoch: 10, Loss: 1.16\n",
      "Batch: 20, Epoch: 10, Loss: 1.11\n",
      "Batch: 30, Epoch: 10, Loss: 1.29\n",
      "Batch: 40, Epoch: 10, Loss: 1.15\n",
      "Batch: 50, Epoch: 10, Loss: 0.96\n",
      "Epoch [10/10], Avg Loss: 1.1170\n",
      "*** Validation Accuracy: 56.00% ***\n",
      "Execution time: 874.3983738422394 seconds\n"
     ]
    }
   ],
   "source": [
    "model = CarClassifierCNNWithRegularization(num_classes=num_classes)\n",
    "criterion = nn.CrossEntropyLoss()\n",
    "optimizer = optim.Adam(model.parameters(), lr=0.001, weight_decay=1e-4)   # Added L2 Regularization\n",
    "\n",
    "all_labels, all_predictions = train_model(model, criterion, optimizer,  epochs=10)"
   ]
  },
  {
   "cell_type": "markdown",
   "id": "8d8f5bbb-7ec3-4ce9-89b6-92c5df5e646c",
   "metadata": {},
   "source": [
    "#### Insights: \n",
    "The model with Regularizations(Batch-Normalization, Dropout, L2) achieves a validation accuracy of 56.00%, a decrease from the plain model's 61.22%,"
   ]
  },
  {
   "cell_type": "markdown",
   "id": "ffbfe5b1",
   "metadata": {},
   "source": [
    "<h3 style=\"font-family: Arial, sans-serif; color: #34495e; margin: 15px 0; text-transform: uppercase; letter-spacing: 1px;\">model 3: Transfer Learning with EfficientNet</h3>"
   ]
  },
  {
   "cell_type": "code",
   "execution_count": 35,
   "id": "4c2ed16a",
   "metadata": {},
   "outputs": [
    {
     "name": "stdout",
     "output_type": "stream",
     "text": [
      "Downloading: \"https://download.pytorch.org/models/efficientnet_b0_rwightman-7f5810bc.pth\" to C:\\Users\\RAKESH KAPILAVAI/.cache\\torch\\hub\\checkpoints\\efficientnet_b0_rwightman-7f5810bc.pth\n"
     ]
    },
    {
     "name": "stderr",
     "output_type": "stream",
     "text": [
      "100%|█████████████████████████████████████████████████████████████████████████████| 20.5M/20.5M [00:00<00:00, 35.2MB/s]\n"
     ]
    },
    {
     "data": {
      "text/plain": [
       "1280"
      ]
     },
     "execution_count": 35,
     "metadata": {},
     "output_type": "execute_result"
    }
   ],
   "source": [
    "model = models.efficientnet_b0(weights='DEFAULT')\n",
    "model.classifier[1].in_features"
   ]
  },
  {
   "cell_type": "code",
   "execution_count": 13,
   "id": "bc5f350c",
   "metadata": {},
   "outputs": [],
   "source": [
    "class CarClassifierEfficientNet(nn.Module):\n",
    "    def __init__(self, num_classes):\n",
    "        super().__init__()\n",
    "        self.model = models.efficientnet_b0(weights='DEFAULT')\n",
    "        \n",
    "        for param in self.model.parameters():\n",
    "            param.requires_grad = False\n",
    "        \n",
    "        in_features = self.model.classifier[1].in_features\n",
    "        \n",
    "        self.model.classifier = nn.Sequential(\n",
    "            nn.Dropout(0.5),\n",
    "            nn.Linear(in_features, num_classes)\n",
    "        )\n",
    "        \n",
    "    def forward(self, x):\n",
    "        x = self.model(x)\n",
    "        return x              "
   ]
  },
  {
   "cell_type": "code",
   "execution_count": 37,
   "id": "0d848396",
   "metadata": {},
   "outputs": [
    {
     "name": "stdout",
     "output_type": "stream",
     "text": [
      "Batch: 10, Epoch: 1, Loss: 1.57\n",
      "Batch: 20, Epoch: 1, Loss: 1.53\n",
      "Batch: 30, Epoch: 1, Loss: 1.44\n",
      "Batch: 40, Epoch: 1, Loss: 1.52\n",
      "Batch: 50, Epoch: 1, Loss: 1.28\n",
      "Epoch [1/10], Avg Loss: 1.4918\n",
      "*** Validation Accuracy: 57.22% ***\n",
      "Batch: 10, Epoch: 2, Loss: 1.11\n",
      "Batch: 20, Epoch: 2, Loss: 1.18\n",
      "Batch: 30, Epoch: 2, Loss: 1.07\n",
      "Batch: 40, Epoch: 2, Loss: 1.10\n",
      "Batch: 50, Epoch: 2, Loss: 0.93\n",
      "Epoch [2/10], Avg Loss: 1.1514\n",
      "*** Validation Accuracy: 63.48% ***\n",
      "Batch: 10, Epoch: 3, Loss: 1.09\n",
      "Batch: 20, Epoch: 3, Loss: 1.13\n",
      "Batch: 30, Epoch: 3, Loss: 1.21\n",
      "Batch: 40, Epoch: 3, Loss: 1.07\n",
      "Batch: 50, Epoch: 3, Loss: 1.05\n",
      "Epoch [3/10], Avg Loss: 1.0337\n",
      "*** Validation Accuracy: 66.61% ***\n",
      "Batch: 10, Epoch: 4, Loss: 1.00\n",
      "Batch: 20, Epoch: 4, Loss: 0.67\n",
      "Batch: 30, Epoch: 4, Loss: 1.00\n",
      "Batch: 40, Epoch: 4, Loss: 0.99\n",
      "Batch: 50, Epoch: 4, Loss: 1.01\n",
      "Epoch [4/10], Avg Loss: 0.9539\n",
      "*** Validation Accuracy: 68.52% ***\n",
      "Batch: 10, Epoch: 5, Loss: 0.75\n",
      "Batch: 20, Epoch: 5, Loss: 0.87\n",
      "Batch: 30, Epoch: 5, Loss: 0.85\n",
      "Batch: 40, Epoch: 5, Loss: 0.84\n",
      "Batch: 50, Epoch: 5, Loss: 0.86\n",
      "Epoch [5/10], Avg Loss: 0.8996\n",
      "*** Validation Accuracy: 66.26% ***\n",
      "Batch: 10, Epoch: 6, Loss: 0.73\n",
      "Batch: 20, Epoch: 6, Loss: 0.94\n",
      "Batch: 30, Epoch: 6, Loss: 0.70\n",
      "Batch: 40, Epoch: 6, Loss: 0.78\n",
      "Batch: 50, Epoch: 6, Loss: 0.93\n",
      "Epoch [6/10], Avg Loss: 0.8786\n",
      "*** Validation Accuracy: 68.00% ***\n",
      "Batch: 10, Epoch: 7, Loss: 0.80\n",
      "Batch: 20, Epoch: 7, Loss: 0.94\n",
      "Batch: 30, Epoch: 7, Loss: 0.82\n",
      "Batch: 40, Epoch: 7, Loss: 1.03\n",
      "Batch: 50, Epoch: 7, Loss: 0.73\n",
      "Epoch [7/10], Avg Loss: 0.8511\n",
      "*** Validation Accuracy: 68.17% ***\n",
      "Batch: 10, Epoch: 8, Loss: 0.94\n",
      "Batch: 20, Epoch: 8, Loss: 0.94\n",
      "Batch: 30, Epoch: 8, Loss: 0.88\n",
      "Batch: 40, Epoch: 8, Loss: 0.98\n",
      "Batch: 50, Epoch: 8, Loss: 0.89\n",
      "Epoch [8/10], Avg Loss: 0.8427\n",
      "*** Validation Accuracy: 69.04% ***\n",
      "Batch: 10, Epoch: 9, Loss: 0.82\n",
      "Batch: 20, Epoch: 9, Loss: 0.92\n",
      "Batch: 30, Epoch: 9, Loss: 1.10\n",
      "Batch: 40, Epoch: 9, Loss: 0.73\n",
      "Batch: 50, Epoch: 9, Loss: 0.76\n",
      "Epoch [9/10], Avg Loss: 0.8040\n",
      "*** Validation Accuracy: 68.17% ***\n",
      "Batch: 10, Epoch: 10, Loss: 0.84\n",
      "Batch: 20, Epoch: 10, Loss: 1.03\n",
      "Batch: 30, Epoch: 10, Loss: 0.97\n",
      "Batch: 40, Epoch: 10, Loss: 0.74\n",
      "Batch: 50, Epoch: 10, Loss: 1.12\n",
      "Epoch [10/10], Avg Loss: 0.8013\n",
      "*** Validation Accuracy: 71.13% ***\n",
      "Execution time: 1131.340178489685 seconds\n"
     ]
    }
   ],
   "source": [
    "model = CarClassifierEfficientNet(num_classes=num_classes)\n",
    "criterion = nn.CrossEntropyLoss()\n",
    "optimizer = optim.Adam(filter(lambda p: p.requires_grad, model.parameters()), lr=0.001)\n",
    "\n",
    "all_labels, all_predictions = train_model(model, criterion, optimizer, epochs=10)"
   ]
  },
  {
   "cell_type": "markdown",
   "id": "c5f0512b-f6b8-4810-91e1-8f8acbec5a12",
   "metadata": {},
   "source": [
    "#### Insights: \n",
    "The transfer learning model built with EfficientNet has achieved a validation accuracy of 71.13%, indicating improved performance but potential for further optimization."
   ]
  },
  {
   "cell_type": "markdown",
   "id": "8375001e",
   "metadata": {},
   "source": [
    "<h3 style=\"font-family: Arial, sans-serif; color: #34495e; margin: 15px 0; text-transform: uppercase; letter-spacing: 1px;\">model 4: Transfer Learning with ResNet</h3>"
   ]
  },
  {
   "cell_type": "code",
   "execution_count": 11,
   "id": "50de3edc",
   "metadata": {},
   "outputs": [],
   "source": [
    "# Load the pre-trained ResNet model\n",
    "class CarClassifierResNet(nn.Module):\n",
    "    def __init__(self, num_classes, dropout_rate=0.5):\n",
    "        super().__init__()\n",
    "        self.model = models.resnet50(weights='DEFAULT')\n",
    "        # Freeze all layers except the final fully connected layer\n",
    "        for param in self.model.parameters():\n",
    "            param.requires_grad = False\n",
    "            \n",
    "        # Unfreeze layer4 and fc layers\n",
    "        for param in self.model.layer4.parameters():\n",
    "            param.requires_grad = True            \n",
    "            \n",
    "        # Replace the final fully connected layer\n",
    "        self.model.fc = nn.Sequential(\n",
    "            nn.Dropout(dropout_rate),\n",
    "            nn.Linear(self.model.fc.in_features, num_classes)\n",
    "        )\n",
    "\n",
    "    def forward(self, x):\n",
    "        x = self.model(x)\n",
    "        return x"
   ]
  },
  {
   "cell_type": "code",
   "execution_count": 39,
   "id": "3bcdf170",
   "metadata": {},
   "outputs": [
    {
     "name": "stdout",
     "output_type": "stream",
     "text": [
      "Downloading: \"https://download.pytorch.org/models/resnet50-11ad3fa6.pth\" to C:\\Users\\RAKESH KAPILAVAI/.cache\\torch\\hub\\checkpoints\\resnet50-11ad3fa6.pth\n"
     ]
    },
    {
     "name": "stderr",
     "output_type": "stream",
     "text": [
      "100%|█████████████████████████████████████████████████████████████████████████████| 97.8M/97.8M [00:02<00:00, 48.9MB/s]\n"
     ]
    },
    {
     "name": "stdout",
     "output_type": "stream",
     "text": [
      "Batch: 10, Epoch: 1, Loss: 0.94\n",
      "Batch: 20, Epoch: 1, Loss: 0.55\n",
      "Batch: 30, Epoch: 1, Loss: 0.64\n",
      "Batch: 40, Epoch: 1, Loss: 0.91\n",
      "Batch: 50, Epoch: 1, Loss: 0.64\n",
      "Epoch [1/10], Avg Loss: 0.9022\n",
      "*** Validation Accuracy: 73.22% ***\n",
      "Batch: 10, Epoch: 2, Loss: 0.32\n",
      "Batch: 20, Epoch: 2, Loss: 0.79\n",
      "Batch: 30, Epoch: 2, Loss: 0.62\n",
      "Batch: 40, Epoch: 2, Loss: 0.52\n",
      "Batch: 50, Epoch: 2, Loss: 0.43\n",
      "Epoch [2/10], Avg Loss: 0.4803\n",
      "*** Validation Accuracy: 75.83% ***\n",
      "Batch: 10, Epoch: 3, Loss: 0.21\n",
      "Batch: 20, Epoch: 3, Loss: 0.50\n",
      "Batch: 30, Epoch: 3, Loss: 0.11\n",
      "Batch: 40, Epoch: 3, Loss: 0.30\n",
      "Batch: 50, Epoch: 3, Loss: 0.38\n",
      "Epoch [3/10], Avg Loss: 0.3453\n",
      "*** Validation Accuracy: 78.43% ***\n",
      "Batch: 10, Epoch: 4, Loss: 0.36\n",
      "Batch: 20, Epoch: 4, Loss: 0.32\n",
      "Batch: 30, Epoch: 4, Loss: 0.06\n",
      "Batch: 40, Epoch: 4, Loss: 0.09\n",
      "Batch: 50, Epoch: 4, Loss: 0.30\n",
      "Epoch [4/10], Avg Loss: 0.2344\n",
      "*** Validation Accuracy: 77.39% ***\n",
      "Batch: 10, Epoch: 5, Loss: 0.24\n",
      "Batch: 20, Epoch: 5, Loss: 0.10\n",
      "Batch: 30, Epoch: 5, Loss: 0.19\n",
      "Batch: 40, Epoch: 5, Loss: 0.09\n",
      "Batch: 50, Epoch: 5, Loss: 0.24\n",
      "Epoch [5/10], Avg Loss: 0.1807\n",
      "*** Validation Accuracy: 78.09% ***\n",
      "Batch: 10, Epoch: 6, Loss: 0.09\n",
      "Batch: 20, Epoch: 6, Loss: 0.19\n",
      "Batch: 30, Epoch: 6, Loss: 0.06\n",
      "Batch: 40, Epoch: 6, Loss: 0.03\n",
      "Batch: 50, Epoch: 6, Loss: 0.25\n",
      "Epoch [6/10], Avg Loss: 0.1377\n",
      "*** Validation Accuracy: 76.17% ***\n",
      "Batch: 10, Epoch: 7, Loss: 0.09\n",
      "Batch: 20, Epoch: 7, Loss: 0.34\n",
      "Batch: 30, Epoch: 7, Loss: 0.20\n",
      "Batch: 40, Epoch: 7, Loss: 0.03\n",
      "Batch: 50, Epoch: 7, Loss: 0.07\n",
      "Epoch [7/10], Avg Loss: 0.1294\n",
      "*** Validation Accuracy: 79.13% ***\n",
      "Batch: 10, Epoch: 8, Loss: 0.26\n",
      "Batch: 20, Epoch: 8, Loss: 0.11\n",
      "Batch: 30, Epoch: 8, Loss: 0.06\n",
      "Batch: 40, Epoch: 8, Loss: 0.06\n",
      "Batch: 50, Epoch: 8, Loss: 0.12\n",
      "Epoch [8/10], Avg Loss: 0.1412\n",
      "*** Validation Accuracy: 78.43% ***\n",
      "Batch: 10, Epoch: 9, Loss: 0.05\n",
      "Batch: 20, Epoch: 9, Loss: 0.04\n",
      "Batch: 30, Epoch: 9, Loss: 0.06\n",
      "Batch: 40, Epoch: 9, Loss: 0.05\n",
      "Batch: 50, Epoch: 9, Loss: 0.15\n",
      "Epoch [9/10], Avg Loss: 0.1078\n",
      "*** Validation Accuracy: 77.74% ***\n",
      "Batch: 10, Epoch: 10, Loss: 0.18\n",
      "Batch: 20, Epoch: 10, Loss: 0.04\n",
      "Batch: 30, Epoch: 10, Loss: 0.02\n",
      "Batch: 40, Epoch: 10, Loss: 0.07\n",
      "Batch: 50, Epoch: 10, Loss: 0.11\n",
      "Epoch [10/10], Avg Loss: 0.0841\n",
      "*** Validation Accuracy: 77.74% ***\n",
      "Execution time: 2873.79997587204 seconds\n"
     ]
    }
   ],
   "source": [
    "model = CarClassifierResNet(num_classes=num_classes)\n",
    "criterion = nn.CrossEntropyLoss()\n",
    "optimizer = optim.Adam(filter(lambda p: p.requires_grad, model.parameters()), lr=0.001)\n",
    "\n",
    "labels, predictions = train_model(model, criterion, optimizer, epochs=10)"
   ]
  },
  {
   "cell_type": "markdown",
   "id": "76402b7e-89b6-4d13-9f61-e672c1fa4260",
   "metadata": {},
   "source": [
    "#### Insights: \n",
    "The highest validation accuracy achieved across all models is 77.74%, obtained using transfer learning with ResNet, indicating progress with potential for further improvement."
   ]
  },
  {
   "cell_type": "markdown",
   "id": "3c83d993",
   "metadata": {},
   "source": [
    "#### I ran hyperparameter tunning in another notebook and figured that the best parameters for resnet models are (1) Dropout rate = 0.2 (2) Learning Rate = 0.005\n",
    "\n",
    "So now let's train the model once again with these best parameters"
   ]
  },
  {
   "cell_type": "code",
   "execution_count": 14,
   "id": "4c337fa5",
   "metadata": {},
   "outputs": [
    {
     "name": "stdout",
     "output_type": "stream",
     "text": [
      "Batch: 10, Epoch: 1, Loss: 1.45\n",
      "Batch: 20, Epoch: 1, Loss: 0.66\n",
      "Batch: 30, Epoch: 1, Loss: 0.75\n",
      "Batch: 40, Epoch: 1, Loss: 0.68\n",
      "Batch: 50, Epoch: 1, Loss: 0.42\n",
      "Epoch [1/10], Avg Loss: 0.8991\n",
      "*** Validation Accuracy: 73.22% ***\n",
      "Batch: 10, Epoch: 2, Loss: 0.58\n",
      "Batch: 20, Epoch: 2, Loss: 0.64\n",
      "Batch: 30, Epoch: 2, Loss: 0.24\n",
      "Batch: 40, Epoch: 2, Loss: 0.55\n",
      "Batch: 50, Epoch: 2, Loss: 0.53\n",
      "Epoch [2/10], Avg Loss: 0.5178\n",
      "*** Validation Accuracy: 73.57% ***\n",
      "Batch: 10, Epoch: 3, Loss: 0.27\n",
      "Batch: 20, Epoch: 3, Loss: 0.26\n",
      "Batch: 30, Epoch: 3, Loss: 0.13\n",
      "Batch: 40, Epoch: 3, Loss: 0.33\n",
      "Batch: 50, Epoch: 3, Loss: 0.29\n",
      "Epoch [3/10], Avg Loss: 0.3587\n",
      "*** Validation Accuracy: 77.39% ***\n",
      "Batch: 10, Epoch: 4, Loss: 0.31\n",
      "Batch: 20, Epoch: 4, Loss: 0.23\n",
      "Batch: 30, Epoch: 4, Loss: 0.34\n",
      "Batch: 40, Epoch: 4, Loss: 0.27\n",
      "Batch: 50, Epoch: 4, Loss: 0.38\n",
      "Epoch [4/10], Avg Loss: 0.2761\n",
      "*** Validation Accuracy: 77.22% ***\n",
      "Batch: 10, Epoch: 5, Loss: 0.15\n",
      "Batch: 20, Epoch: 5, Loss: 0.07\n",
      "Batch: 30, Epoch: 5, Loss: 0.32\n",
      "Batch: 40, Epoch: 5, Loss: 0.52\n",
      "Batch: 50, Epoch: 5, Loss: 0.13\n",
      "Epoch [5/10], Avg Loss: 0.2080\n",
      "*** Validation Accuracy: 77.74% ***\n",
      "Batch: 10, Epoch: 6, Loss: 0.02\n",
      "Batch: 20, Epoch: 6, Loss: 0.09\n",
      "Batch: 30, Epoch: 6, Loss: 0.14\n",
      "Batch: 40, Epoch: 6, Loss: 0.11\n",
      "Batch: 50, Epoch: 6, Loss: 0.12\n",
      "Epoch [6/10], Avg Loss: 0.1684\n",
      "*** Validation Accuracy: 75.83% ***\n",
      "Batch: 10, Epoch: 7, Loss: 0.12\n",
      "Batch: 20, Epoch: 7, Loss: 0.14\n",
      "Batch: 30, Epoch: 7, Loss: 0.12\n",
      "Batch: 40, Epoch: 7, Loss: 0.06\n",
      "Batch: 50, Epoch: 7, Loss: 0.17\n",
      "Epoch [7/10], Avg Loss: 0.1168\n",
      "*** Validation Accuracy: 81.74% ***\n",
      "Batch: 10, Epoch: 8, Loss: 0.09\n",
      "Batch: 20, Epoch: 8, Loss: 0.09\n",
      "Batch: 30, Epoch: 8, Loss: 0.30\n",
      "Batch: 40, Epoch: 8, Loss: 0.15\n",
      "Batch: 50, Epoch: 8, Loss: 0.10\n",
      "Epoch [8/10], Avg Loss: 0.1305\n",
      "*** Validation Accuracy: 79.30% ***\n",
      "Batch: 10, Epoch: 9, Loss: 0.10\n",
      "Batch: 20, Epoch: 9, Loss: 0.44\n",
      "Batch: 30, Epoch: 9, Loss: 0.17\n",
      "Batch: 40, Epoch: 9, Loss: 0.03\n",
      "Batch: 50, Epoch: 9, Loss: 0.16\n",
      "Epoch [9/10], Avg Loss: 0.1238\n",
      "*** Validation Accuracy: 77.74% ***\n",
      "Batch: 10, Epoch: 10, Loss: 0.12\n",
      "Batch: 20, Epoch: 10, Loss: 0.05\n",
      "Batch: 30, Epoch: 10, Loss: 0.25\n",
      "Batch: 40, Epoch: 10, Loss: 0.01\n",
      "Batch: 50, Epoch: 10, Loss: 0.14\n",
      "Epoch [10/10], Avg Loss: 0.0884\n",
      "*** Validation Accuracy: 77.74% ***\n",
      "Execution time: 2014.6074209213257 seconds\n"
     ]
    }
   ],
   "source": [
    "model = CarClassifierResNet(num_classes=num_classes, dropout_rate=0.2)\n",
    "criterion = nn.CrossEntropyLoss()\n",
    "optimizer = optim.Adam(filter(lambda p: p.requires_grad, model.parameters()), lr=0.005)\n",
    "\n",
    "labels, predictions = train_model(model, criterion, optimizer, epochs=10)"
   ]
  },
  {
   "cell_type": "markdown",
   "id": "35b5bae5",
   "metadata": {},
   "source": [
    "### Model Evaluation using Confusion Matrix and Classification Report"
   ]
  },
  {
   "cell_type": "code",
   "execution_count": 15,
   "id": "c32e8e26",
   "metadata": {},
   "outputs": [
    {
     "name": "stdout",
     "output_type": "stream",
     "text": [
      "              precision    recall  f1-score   support\n",
      "\n",
      "           0       0.88      0.78      0.83       106\n",
      "           1       0.67      0.91      0.77       103\n",
      "           2       0.99      0.81      0.89       129\n",
      "           3       0.84      0.63      0.72        86\n",
      "           4       0.58      0.64      0.61        77\n",
      "           5       0.71      0.84      0.77        74\n",
      "\n",
      "    accuracy                           0.78       575\n",
      "   macro avg       0.78      0.77      0.77       575\n",
      "weighted avg       0.80      0.78      0.78       575\n",
      "\n"
     ]
    }
   ],
   "source": [
    "from sklearn.metrics import classification_report\n",
    "\n",
    "report = classification_report(labels, predictions)\n",
    "print(report)"
   ]
  },
  {
   "cell_type": "code",
   "execution_count": 16,
   "id": "6bf18500",
   "metadata": {},
   "outputs": [
    {
     "data": {
      "image/png": "[encoded data removed]",
      "text/plain": [
       "<Figure size 640x480 with 2 Axes>"
      ]
     },
     "metadata": {},
     "output_type": "display_data"
    }
   ],
   "source": [
    "import numpy as np\n",
    "from sklearn.metrics import confusion_matrix, ConfusionMatrixDisplay\n",
    "from matplotlib import pyplot as plt\n",
    "\n",
    "conf_matrix = confusion_matrix(labels, predictions, labels=np.arange(num_classes))\n",
    "disp = ConfusionMatrixDisplay(confusion_matrix=conf_matrix, display_labels=class_names)\n",
    "disp.plot(cmap=plt.cm.Blues, xticks_rotation=45)\n",
    "plt.title(\"Confusion Matrix for Vehicle Damage Classification\")\n",
    "plt.show()"
   ]
  },
  {
   "cell_type": "markdown",
   "id": "61a7239a-023e-4c12-be7f-d63988edd4ad",
   "metadata": {},
   "source": [
    "#### Insights:\n",
    "- Model is strong at classifying front-side damage, especially F_Normal and F_Breakage.\n",
    "\n",
    "- Rear-side classification is weaker; especially distinguishing between R_Normal and R_Crushed."
   ]
  },
  {
   "cell_type": "markdown",
   "id": "fa8f28f0",
   "metadata": {},
   "source": [
    "### Save the Model"
   ]
  },
  {
   "cell_type": "code",
   "execution_count": 17,
   "id": "68220446",
   "metadata": {},
   "outputs": [],
   "source": [
    "torch.save(model.state_dict(), 'saved_model.pth')"
   ]
  }
 ],
 "metadata": {
  "kernelspec": {
   "display_name": "Python 3 (ipykernel)",
   "language": "python",
   "name": "python3"
  },
  "language_info": {
   "codemirror_mode": {
    "name": "ipython",
    "version": 3
   },
   "file_extension": ".py",
   "mimetype": "text/x-python",
   "name": "python",
   "nbconvert_exporter": "python",
   "pygments_lexer": "ipython3",
   "version": "3.13.2"
  }
 },
 "nbformat": 4,
 "nbformat_minor": 5
}
